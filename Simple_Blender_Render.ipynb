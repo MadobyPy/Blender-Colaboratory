{
  "nbformat": 4,
  "nbformat_minor": 0,
  "metadata": {
    "colab": {
      "provenance": [],
      "gpuType": "T4",
      "authorship_tag": "ABX9TyMpCaIUcNTpAnhSV70MaHFQ",
      "include_colab_link": true
    },
    "kernelspec": {
      "name": "python3",
      "display_name": "Python 3"
    },
    "language_info": {
      "name": "python"
    },
    "accelerator": "GPU"
  },
  "cells": [
    {
      "cell_type": "markdown",
      "metadata": {
        "id": "view-in-github",
        "colab_type": "text"
      },
      "source": [
        "<a href=\"https://colab.research.google.com/github/alexledd/Blender-Colaboratory/blob/main/Simple_Blender_Render.ipynb\" target=\"_parent\"><img src=\"https://colab.research.google.com/assets/colab-badge.svg\" alt=\"Open In Colab\"/></a>"
      ]
    },
    {
      "cell_type": "code",
      "source": [
        "#@title Form\n",
        "\n",
        "blender_version = '3.5.1' #@param ['3.0.1','3.1.2','3.2.2' ,'3.3.8','3.4.1' , '3.5.1'] {allow-input: false}\n",
        "project_name = 'DG_2' #@param {type: 'string'}\n",
        "blend_file_path = '/content/DG_2.blend' #@param {type: 'string'}\n",
        "#@markdown ---\n",
        "animation = False #@param {type: 'boolean'}\n",
        "start_frame =  1#@param {type: 'integer'}\n",
        "end_frame =  250#@param {type: 'integer'}\n",
        "#@markdown ---\n",
        "gpu_enabled = True #@param {type:\"boolean\"}\n",
        "optix_enabled = True #@param {type:\"boolean\"}\n",
        "cpu_enabled = True #@param {type:\"boolean\"}\n",
        "\n",
        "import os\n",
        "\n",
        "!mkdir /content/$project_name\n",
        "!mkdir /content/$project_name/rendered\n",
        "!mkdir /content/$project_name/blend\n",
        "!cp $blend_file_path /content/$project_name/blend\n",
        "\n",
        "blend_file = os.path.basename(blend_file_path)"
      ],
      "metadata": {
        "id": "jgLYv29-jj8r"
      },
      "execution_count": null,
      "outputs": []
    },
    {
      "cell_type": "code",
      "source": [
        "#@title NVIDIA GPU Check\n",
        "gpu = !nvidia-smi --query-gpu=gpu_name --format=csv,noheader\n",
        "print(\"Current GPU: \" + gpu[0])\n",
        "\n",
        "if gpu[0] == \"Tesla K80\" and optix_enabled:\n",
        "  print(\"OptiX disabled because of unsupported GPU\")\n",
        "  optix_enabled = False"
      ],
      "metadata": {
        "cellView": "form",
        "id": "A6KG2eHIl8bO"
      },
      "execution_count": null,
      "outputs": []
    },
    {
      "cell_type": "code",
      "source": [
        "#@title Mount Google Drive (Optional)\n",
        "from google.colab import drive\n",
        "\n",
        "drive.mount(\"/content/drive\", force_remount=True)"
      ],
      "metadata": {
        "cellView": "form",
        "id": "LQ3E85DYnjYn"
      },
      "execution_count": null,
      "outputs": []
    },
    {
      "cell_type": "code",
      "execution_count": null,
      "metadata": {
        "cellView": "form",
        "id": "TbhlhlnGiiA5"
      },
      "outputs": [],
      "source": [
        "#@title Dependencies\n",
        "# Add your own version of blender from https://ftp.nluug.nl/pub/graphics/blender/release\n",
        "blender_url_dict = {'3.0.1'   : \"https://ftp.nluug.nl/pub/graphics/blender/release/Blender3.0/blender-3.0.1-linux-x64.tar.xz\",\n",
        "                    '3.1.2'   : \"https://ftp.nluug.nl/pub/graphics/blender/release/Blender3.1/blender-3.1.2-linux-x64.tar.xz\",\n",
        "                    '3.2.2'   : \"https://ftp.nluug.nl/pub/graphics/blender/release/Blender3.2/blender-3.2.2-linux-x64.tar.xz\",\n",
        "                    '3.3.8'   : \"https://ftp.nluug.nl/pub/graphics/blender/release/Blender3.3/blender-3.3.8-linux-x64.tar.xz\",\n",
        "                    '3.4.1'   : \"https://ftp.nluug.nl/pub/graphics/blender/release/Blender3.4/blender-3.4.1-linux-x64.tar.xz\",\n",
        "                    '3.5.1'   : \"https://ftp.nluug.nl/pub/graphics/blender/release/Blender3.5/blender-3.5.1-linux-x64.tar.xz\"}\n",
        "\n",
        "import os\n",
        "\n",
        "blender_url = blender_url_dict[blender_version]\n",
        "base_url = os.path.basename(blender_url)\n",
        "\n",
        "!mkdir $blender_version\n",
        "!wget -nc $blender_url\n",
        "!tar -xkf $base_url -C ./$blender_version --strip-components=1"
      ]
    },
    {
      "cell_type": "code",
      "source": [
        "#@title Enable GPU rendering (Custom Properties add here)\n",
        "data = \"import re\\n\"+\\\n",
        "    \"import bpy\\n\"+\\\n",
        "    \"scene = bpy.context.scene\\n\"+\\\n",
        "    \"scene.cycles.device = 'GPU'\\n\"+\\\n",
        "    \"prefs = bpy.context.preferences\\n\"+\\\n",
        "    \"prefs.addons['cycles'].preferences.get_devices()\\n\"+\\\n",
        "    \"cprefs = prefs.addons['cycles'].preferences\\n\"+\\\n",
        "    \"print(cprefs)\\n\"+\\\n",
        "    \"for compute_device_type in ('CUDA', 'OPENCL', 'NONE'):\\n\"+\\\n",
        "    \"    try:\\n\"+\\\n",
        "    \"        cprefs.compute_device_type = compute_device_type\\n\"+\\\n",
        "    \"        print('Device found:',compute_device_type)\\n\"+\\\n",
        "    \"        break\\n\"+\\\n",
        "    \"    except TypeError:\\n\"+\\\n",
        "    \"        pass\\n\"+\\\n",
        "    \"for device in cprefs.devices:\\n\"+\\\n",
        "    \"    if not re.match('intel', device.name, re.I):\\n\"+\\\n",
        "    \"        print('Activating',device)\\n\"+\\\n",
        "    \"        device.use = \"+str(gpu_enabled)+\"\\n\"+\\\n",
        "    \"    else:\\n\"+\\\n",
        "    \"        device.use = \"+str(cpu_enabled)+\"\\n\"\n",
        "with open('setgpu.py', 'w') as f:\n",
        "    f.write(data)\n",
        "\n",
        "renderer = \"CUDA\"\n",
        "if optix_enabled:\n",
        "    print(\"Note: You're currently using OptiX renderer. If an error occurred, set OptiX to False\")\n",
        "    renderer = \"OPTIX\"\n",
        "\n",
        "if gpu_enabled:\n",
        "  !cp /content/setgpu.py /content/$blender_version/"
      ],
      "metadata": {
        "id": "nFnxoGOXqg07",
        "colab": {
          "base_uri": "https://localhost:8080/"
        },
        "outputId": "666f7e66-00d3-4a3f-ed67-4970cd128f17"
      },
      "execution_count": null,
      "outputs": [
        {
          "output_type": "stream",
          "name": "stdout",
          "text": [
            "Note: You're currently using OptiX renderer. If an error occurred, set OptiX to False\n"
          ]
        }
      ]
    },
    {
      "cell_type": "code",
      "source": [
        "#@title Render\n",
        "%cd /content/$blender_version\n",
        "output_path = /content/$project_name/rendered\n",
        "\n",
        "if animation:\n",
        "    if start_frame == end_frame:\n",
        "        !./$blender_version/blender -b '/content/$project_name/blend/{blend_file}' -P setgpu.py -E CYCLES -o '{output_path}' -noaudio -a -- --cycles-device \"{renderer}\"\n",
        "    else:\n",
        "        !./$blender_version/blender -b '/content/$project_name/blend/{blend_file}' -P setgpu.py -E CYCLES -o '{output_path}' -noaudio -s $start_frame -e $end_frame -a -- --cycles-device \"{renderer}\"\n",
        "else:\n",
        "    !./$blender_version/blender -b '/content/$project_name/blend/{blend_file}' -P setgpu.py -E CYCLES -o '{output_path}' -noaudio -f $start_frame -- --cycles-device \"{renderer}\""
      ],
      "metadata": {
        "id": "TisfkRSXroPV"
      },
      "execution_count": null,
      "outputs": []
    }
  ]
}